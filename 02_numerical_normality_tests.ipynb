{
 "cells": [
  {
   "cell_type": "markdown",
   "metadata": {
    "toc": true
   },
   "source": [
    "<h1>Table of Contents<span class=\"tocSkip\"></span></h1>\n",
    "<div class=\"toc\"><ul class=\"toc-item\"></ul></div>"
   ]
  },
  {
   "cell_type": "markdown",
   "metadata": {},
   "source": [
    "# Frequentist methods of normality tests"
   ]
  },
  {
   "cell_type": "code",
   "execution_count": 1,
   "metadata": {},
   "outputs": [],
   "source": [
    "import numpy as np, pandas as pd, scipy as sp\n",
    "from math import *\n",
    "from scipy import stats\n",
    "from scipy.stats import norm\n",
    "import statsmodels.api as sm\n",
    "from scipy import stats,random\n",
    "import pandas_datareader.data as web\n",
    "from datetime import datetime\n",
    "import matplotlib.pyplot as plt\n",
    "%matplotlib inline\n",
    "import seaborn as sns\n",
    "sns.set(style=\"whitegrid\")\n",
    "p = print"
   ]
  },
  {
   "cell_type": "code",
   "execution_count": 2,
   "metadata": {},
   "outputs": [],
   "source": [
    "n_samples = 2500\n",
    "# data = stats.norm.rvs(size=n_samples,random_state=1234)\n",
    "data = np.random.normal(loc=0.0,scale=1.0,size=n_samples)"
   ]
  },
  {
   "cell_type": "code",
   "execution_count": 3,
   "metadata": {},
   "outputs": [
    {
     "data": {
      "text/plain": [
       "(0.9996313452720642, 0.945408046245575)"
      ]
     },
     "execution_count": 3,
     "metadata": {},
     "output_type": "execute_result"
    }
   ],
   "source": [
    "stats.shapiro(data)"
   ]
  },
  {
   "cell_type": "code",
   "execution_count": 4,
   "metadata": {},
   "outputs": [
    {
     "data": {
      "text/plain": [
       "(0.9996313452720642, 0.945408046245575)"
      ]
     },
     "execution_count": 4,
     "metadata": {},
     "output_type": "execute_result"
    }
   ],
   "source": [
    "result = stats.shapiro(data)\n",
    "result"
   ]
  },
  {
   "cell_type": "code",
   "execution_count": 5,
   "metadata": {},
   "outputs": [
    {
     "name": "stdout",
     "output_type": "stream",
     "text": [
      "W-test: 0.9996313452720642, p-value: 0.945408046245575\n"
     ]
    }
   ],
   "source": [
    "p(f'W-test: {result[0]}, p-value: {result[1]}')"
   ]
  },
  {
   "cell_type": "markdown",
   "metadata": {},
   "source": [
    "The p-value is greater than the 0.05 alpha level, and so the sample came from a normally distriuted poopulation, as expected since the we generated a normally distribute data."
   ]
  },
  {
   "cell_type": "code",
   "execution_count": 6,
   "metadata": {},
   "outputs": [],
   "source": [
    "def shapiro_normality_test(ticker, sample):\n",
    "    \"\"\"\n",
    "    H0: The null hypothesis\n",
    "        That a sample came from a normally distributed population.\n",
    "    \"\"\"\n",
    "    \n",
    "    p(f'ticker= {ticker}, W-test and p-value') \n",
    "    p(stats.shapiro(sample))\n",
    "    # normality test\n",
    "    stat, p_value = stats.shapiro(sample)\n",
    "    p(f'Statistics= {stat}, p-value= {p_value}\\n')\n",
    "    # interpretation\n",
    "    alpha = 0.05\n",
    "    if p_value > alpha:\n",
    "        p(f'{ticker} sample looks Gaussian (fail to reject H0)')\n",
    "    else:\n",
    "        p(f'{ticker} sample does not look Gaussian (reject H0)')\n",
    "    return"
   ]
  },
  {
   "cell_type": "code",
   "execution_count": 7,
   "metadata": {},
   "outputs": [],
   "source": [
    "n_samples = 2500\n",
    "# data = stats.norm.rvs(size=n_samples,random_state=1234)\n",
    "data = np.random.normal(loc=0.0,scale=1.0,size=n_samples)"
   ]
  },
  {
   "cell_type": "code",
   "execution_count": 8,
   "metadata": {},
   "outputs": [
    {
     "name": "stdout",
     "output_type": "stream",
     "text": [
      "ticker= Simulated data, W-test and p-value\n",
      "(0.9992918968200684, 0.47128817439079285)\n",
      "Statistics= 0.9992918968200684, p-value= 0.47128817439079285\n",
      "\n",
      "Simulated data sample looks Gaussian (fail to reject H0)\n"
     ]
    }
   ],
   "source": [
    "shapiro_normality_test('Simulated data',data)"
   ]
  },
  {
   "cell_type": "code",
   "execution_count": 9,
   "metadata": {},
   "outputs": [],
   "source": [
    "# tickers = ['AAPL','IBM','MSFT']\n",
    "df = web.DataReader('AAPL','yahoo','01/01/2007','10/18/2019')\n",
    "rets = df['Adj Close'].pct_change().dropna()"
   ]
  },
  {
   "cell_type": "code",
   "execution_count": 10,
   "metadata": {},
   "outputs": [
    {
     "name": "stdout",
     "output_type": "stream",
     "text": [
      "ticker= AAPL, W-test and p-value\n",
      "(0.938154399394989, 1.103788047478426e-34)\n",
      "Statistics= 0.938154399394989, p-value= 1.103788047478426e-34\n",
      "\n",
      "AAPL sample does not look Gaussian (reject H0)\n"
     ]
    }
   ],
   "source": [
    "shapiro_normality_test('AAPL', rets)"
   ]
  },
  {
   "cell_type": "code",
   "execution_count": 11,
   "metadata": {},
   "outputs": [],
   "source": [
    "df = web.DataReader('IBM','yahoo','01/01/2007','10/18/2019')\n",
    "rets = df['Adj Close'].pct_change().dropna()"
   ]
  },
  {
   "cell_type": "code",
   "execution_count": 12,
   "metadata": {},
   "outputs": [
    {
     "name": "stdout",
     "output_type": "stream",
     "text": [
      "ticker= IBM, W-test and p-value\n",
      "(0.928572952747345, 1.0501538756446162e-36)\n",
      "Statistics= 0.928572952747345, p-value= 1.0501538756446162e-36\n",
      "\n",
      "IBM sample does not look Gaussian (reject H0)\n"
     ]
    }
   ],
   "source": [
    "shapiro_normality_test('IBM', rets)"
   ]
  },
  {
   "cell_type": "code",
   "execution_count": 13,
   "metadata": {},
   "outputs": [],
   "source": [
    "df = web.DataReader('MSFT','yahoo','01/01/2007','10/18/2019')\n",
    "rets = df['Adj Close'].pct_change().dropna()"
   ]
  },
  {
   "cell_type": "code",
   "execution_count": 14,
   "metadata": {},
   "outputs": [
    {
     "name": "stdout",
     "output_type": "stream",
     "text": [
      "ticker= MSFT, W-test and p-value\n",
      "(0.910578191280365, 5.597346585899049e-40)\n",
      "Statistics= 0.910578191280365, p-value= 5.597346585899049e-40\n",
      "\n",
      "MSFT sample does not look Gaussian (reject H0)\n"
     ]
    }
   ],
   "source": [
    "shapiro_normality_test('MSFT', rets)"
   ]
  },
  {
   "cell_type": "code",
   "execution_count": 15,
   "metadata": {},
   "outputs": [],
   "source": [
    "n_samples = 2500\n",
    "data = stats.norm.rvs(size=n_samples,random_state=1234)"
   ]
  },
  {
   "cell_type": "code",
   "execution_count": 16,
   "metadata": {},
   "outputs": [
    {
     "data": {
      "text/plain": [
       "AndersonResult(statistic=0.5129308097734793, critical_values=array([0.575, 0.655, 0.786, 0.917, 1.09 ]), significance_level=array([15. , 10. ,  5. ,  2.5,  1. ]))"
      ]
     },
     "execution_count": 16,
     "metadata": {},
     "output_type": "execute_result"
    }
   ],
   "source": [
    "result = stats.anderson(data)\n",
    "result"
   ]
  },
  {
   "cell_type": "markdown",
   "metadata": {},
   "source": [
    "The statistic 0.5129 is less than critical value 0.786 at the significance level of 5.0%. "
   ]
  },
  {
   "cell_type": "code",
   "execution_count": 17,
   "metadata": {},
   "outputs": [
    {
     "data": {
      "text/plain": [
       "0.5129308097734793"
      ]
     },
     "execution_count": 17,
     "metadata": {},
     "output_type": "execute_result"
    }
   ],
   "source": [
    "result.statistic"
   ]
  },
  {
   "cell_type": "code",
   "execution_count": 18,
   "metadata": {},
   "outputs": [
    {
     "data": {
      "text/plain": [
       "array([15. , 10. ,  5. ,  2.5,  1. ])"
      ]
     },
     "execution_count": 18,
     "metadata": {},
     "output_type": "execute_result"
    }
   ],
   "source": [
    "result.significance_level"
   ]
  },
  {
   "cell_type": "code",
   "execution_count": 19,
   "metadata": {},
   "outputs": [
    {
     "data": {
      "text/plain": [
       "5.0"
      ]
     },
     "execution_count": 19,
     "metadata": {},
     "output_type": "execute_result"
    }
   ],
   "source": [
    "result.significance_level[2]"
   ]
  },
  {
   "cell_type": "code",
   "execution_count": 20,
   "metadata": {},
   "outputs": [
    {
     "data": {
      "text/plain": [
       "array([0.575, 0.655, 0.786, 0.917, 1.09 ])"
      ]
     },
     "execution_count": 20,
     "metadata": {},
     "output_type": "execute_result"
    }
   ],
   "source": [
    "result.critical_values"
   ]
  },
  {
   "cell_type": "code",
   "execution_count": 21,
   "metadata": {},
   "outputs": [
    {
     "data": {
      "text/plain": [
       "0.786"
      ]
     },
     "execution_count": 21,
     "metadata": {},
     "output_type": "execute_result"
    }
   ],
   "source": [
    "result.critical_values[2]"
   ]
  },
  {
   "cell_type": "code",
   "execution_count": 22,
   "metadata": {},
   "outputs": [],
   "source": [
    "def anderson_normality_test(ticker, sample): \n",
    "    \"\"\"\n",
    "    H0: The Null Hypothesis\n",
    "        The Anderson-Darling tests the null hypothesis that a sample is drawn \n",
    "        from a normally distributed population.\n",
    "    \"\"\"\n",
    "    \n",
    "    p(f'ticker=',ticker,'W-test, and P-value') \n",
    "\n",
    "    # normality test\n",
    "    result = stats.anderson(sample, dist='norm')\n",
    "    p(f'Statistic: {round(result.statistic,3)}')\n",
    "    #p = 0\n",
    "    for i in range(len(result.critical_values)):\n",
    "        sl, cv = result.significance_level[i], result.critical_values[i]\n",
    "        if result.statistic < result.critical_values[i]:\n",
    "            p(f'Significance level: {round(sl,3)}; Critical value: {round(cv,3)}: Sample looks Gaussian (fail to reject H0)')\n",
    "        else:\n",
    "            p(f'Significance level: {round(sl,3)}; Critical value: {round(cv,3)}: Sample does not look Gaussian (reject H0)')\n",
    "    return"
   ]
  },
  {
   "cell_type": "code",
   "execution_count": 23,
   "metadata": {},
   "outputs": [],
   "source": [
    "n_samples = 2500\n",
    "# data = stats.norm.rvs(size=n_samples,random_state=1234)\n",
    "data = np.random.normal(loc=0.0,scale=1.0,size=n_samples)"
   ]
  },
  {
   "cell_type": "code",
   "execution_count": 24,
   "metadata": {},
   "outputs": [
    {
     "name": "stdout",
     "output_type": "stream",
     "text": [
      "ticker= Simulated Series W-test, and P-value\n",
      "Statistic: 0.272\n",
      "Significance level: 15.0; Critical value: 0.575: Sample looks Gaussian (fail to reject H0)\n",
      "Significance level: 10.0; Critical value: 0.655: Sample looks Gaussian (fail to reject H0)\n",
      "Significance level: 5.0; Critical value: 0.786: Sample looks Gaussian (fail to reject H0)\n",
      "Significance level: 2.5; Critical value: 0.917: Sample looks Gaussian (fail to reject H0)\n",
      "Significance level: 1.0; Critical value: 1.09: Sample looks Gaussian (fail to reject H0)\n"
     ]
    }
   ],
   "source": [
    "anderson_normality_test('Simulated Series',data)"
   ]
  },
  {
   "cell_type": "code",
   "execution_count": 25,
   "metadata": {},
   "outputs": [],
   "source": [
    "df = web.DataReader('AAPL','yahoo','01/01/2007','10/18/2019')\n",
    "rets = df['Adj Close'].pct_change().dropna()"
   ]
  },
  {
   "cell_type": "code",
   "execution_count": 26,
   "metadata": {},
   "outputs": [
    {
     "name": "stdout",
     "output_type": "stream",
     "text": [
      "ticker= AAPL W-test, and P-value\n",
      "Statistic: 39.027\n",
      "Significance level: 15.0; Critical value: 0.575: Sample does not look Gaussian (reject H0)\n",
      "Significance level: 10.0; Critical value: 0.655: Sample does not look Gaussian (reject H0)\n",
      "Significance level: 5.0; Critical value: 0.786: Sample does not look Gaussian (reject H0)\n",
      "Significance level: 2.5; Critical value: 0.917: Sample does not look Gaussian (reject H0)\n",
      "Significance level: 1.0; Critical value: 1.091: Sample does not look Gaussian (reject H0)\n"
     ]
    }
   ],
   "source": [
    "anderson_normality_test('AAPL',rets)"
   ]
  },
  {
   "cell_type": "code",
   "execution_count": 27,
   "metadata": {},
   "outputs": [],
   "source": [
    "df = web.DataReader('IBM','yahoo','01/01/2007','10/18/2019')\n",
    "rets = df['Adj Close'].pct_change().dropna()"
   ]
  },
  {
   "cell_type": "code",
   "execution_count": 28,
   "metadata": {},
   "outputs": [
    {
     "name": "stdout",
     "output_type": "stream",
     "text": [
      "ticker= IBM W-test, and P-value\n",
      "Statistic: 44.371\n",
      "Significance level: 15.0; Critical value: 0.575: Sample does not look Gaussian (reject H0)\n",
      "Significance level: 10.0; Critical value: 0.655: Sample does not look Gaussian (reject H0)\n",
      "Significance level: 5.0; Critical value: 0.786: Sample does not look Gaussian (reject H0)\n",
      "Significance level: 2.5; Critical value: 0.917: Sample does not look Gaussian (reject H0)\n",
      "Significance level: 1.0; Critical value: 1.091: Sample does not look Gaussian (reject H0)\n"
     ]
    }
   ],
   "source": [
    "anderson_normality_test('IBM',rets)"
   ]
  },
  {
   "cell_type": "code",
   "execution_count": 29,
   "metadata": {},
   "outputs": [],
   "source": [
    "df = web.DataReader('MSFT','yahoo','01/01/2007','10/18/2019')\n",
    "rets = df['Adj Close'].pct_change().dropna()"
   ]
  },
  {
   "cell_type": "code",
   "execution_count": 30,
   "metadata": {},
   "outputs": [
    {
     "name": "stdout",
     "output_type": "stream",
     "text": [
      "ticker= MSFT W-test, and P-value\n",
      "Statistic: 48.662\n",
      "Significance level: 15.0; Critical value: 0.575: Sample does not look Gaussian (reject H0)\n",
      "Significance level: 10.0; Critical value: 0.655: Sample does not look Gaussian (reject H0)\n",
      "Significance level: 5.0; Critical value: 0.786: Sample does not look Gaussian (reject H0)\n",
      "Significance level: 2.5; Critical value: 0.917: Sample does not look Gaussian (reject H0)\n",
      "Significance level: 1.0; Critical value: 1.091: Sample does not look Gaussian (reject H0)\n"
     ]
    }
   ],
   "source": [
    "anderson_normality_test('MSFT',rets)"
   ]
  },
  {
   "cell_type": "code",
   "execution_count": 31,
   "metadata": {},
   "outputs": [
    {
     "name": "stdout",
     "output_type": "stream",
     "text": [
      "ticker= test, W-test and p-value\n",
      "(0.9990682601928711, 0.21895110607147217)\n",
      "Statistics= 0.9990682601928711, p-value= 0.21895110607147217\n",
      "\n",
      "test sample looks Gaussian (fail to reject H0)\n",
      "\n",
      "\n",
      "ticker= test W-test, and P-value\n",
      "Statistic: 0.581\n",
      "Significance level: 15.0; Critical value: 0.575: Sample does not look Gaussian (reject H0)\n",
      "Significance level: 10.0; Critical value: 0.655: Sample looks Gaussian (fail to reject H0)\n",
      "Significance level: 5.0; Critical value: 0.786: Sample looks Gaussian (fail to reject H0)\n",
      "Significance level: 2.5; Critical value: 0.917: Sample looks Gaussian (fail to reject H0)\n",
      "Significance level: 1.0; Critical value: 1.09: Sample looks Gaussian (fail to reject H0)\n"
     ]
    }
   ],
   "source": [
    "data = np.random.normal(loc=0.0,scale=1.0,size=n_samples)\n",
    "shapiro_normality_test('test',data)\n",
    "p('\\n')\n",
    "anderson_normality_test('test',data)"
   ]
  },
  {
   "cell_type": "code",
   "execution_count": 32,
   "metadata": {},
   "outputs": [
    {
     "name": "stdout",
     "output_type": "stream",
     "text": [
      "ticker= test W-test, and P-value\n",
      "Statistic: 0.581\n",
      "Significance level: 15.0; Critical value: 0.575: Sample does not look Gaussian (reject H0)\n",
      "Significance level: 10.0; Critical value: 0.655: Sample looks Gaussian (fail to reject H0)\n",
      "Significance level: 5.0; Critical value: 0.786: Sample looks Gaussian (fail to reject H0)\n",
      "Significance level: 2.5; Critical value: 0.917: Sample looks Gaussian (fail to reject H0)\n",
      "Significance level: 1.0; Critical value: 1.09: Sample looks Gaussian (fail to reject H0)\n"
     ]
    }
   ],
   "source": [
    "anderson_normality_test('test',data)"
   ]
  }
 ],
 "metadata": {
  "kernelspec": {
   "display_name": "Python 3",
   "language": "python",
   "name": "python3"
  },
  "language_info": {
   "codemirror_mode": {
    "name": "ipython",
    "version": 3
   },
   "file_extension": ".py",
   "mimetype": "text/x-python",
   "name": "python",
   "nbconvert_exporter": "python",
   "pygments_lexer": "ipython3",
   "version": "3.6.8"
  },
  "toc": {
   "base_numbering": 1,
   "nav_menu": {},
   "number_sections": true,
   "sideBar": true,
   "skip_h1_title": true,
   "title_cell": "Table of Contents",
   "title_sidebar": "Contents",
   "toc_cell": true,
   "toc_position": {},
   "toc_section_display": true,
   "toc_window_display": false
  }
 },
 "nbformat": 4,
 "nbformat_minor": 2
}
