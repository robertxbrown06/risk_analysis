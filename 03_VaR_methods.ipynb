{
 "cells": [
  {
   "cell_type": "markdown",
   "metadata": {
    "toc": true
   },
   "source": [
    "<h1>Table of Contents<span class=\"tocSkip\"></span></h1>\n",
    "<div class=\"toc\"><ul class=\"toc-item\"><li><span><a href=\"#Simulated-Data\" data-toc-modified-id=\"Simulated-Data-1\"><span class=\"toc-item-num\">1&nbsp;&nbsp;</span>Simulated Data</a></span><ul class=\"toc-item\"><li><span><a href=\"#Normal-Distribution\" data-toc-modified-id=\"Normal-Distribution-1.1\"><span class=\"toc-item-num\">1.1&nbsp;&nbsp;</span>Normal Distribution</a></span></li></ul></li><li><span><a href=\"#Real-world-Data\" data-toc-modified-id=\"Real-world-Data-2\"><span class=\"toc-item-num\">2&nbsp;&nbsp;</span>Real-world Data</a></span><ul class=\"toc-item\"><li><span><a href=\"#AAPL\" data-toc-modified-id=\"AAPL-2.1\"><span class=\"toc-item-num\">2.1&nbsp;&nbsp;</span>AAPL</a></span></li><li><span><a href=\"#IBM\" data-toc-modified-id=\"IBM-2.2\"><span class=\"toc-item-num\">2.2&nbsp;&nbsp;</span>IBM</a></span></li><li><span><a href=\"#MSFT\" data-toc-modified-id=\"MSFT-2.3\"><span class=\"toc-item-num\">2.3&nbsp;&nbsp;</span>MSFT</a></span></li><li><span><a href=\"#WMT\" data-toc-modified-id=\"WMT-2.4\"><span class=\"toc-item-num\">2.4&nbsp;&nbsp;</span>WMT</a></span></li></ul></li></ul></div>"
   ]
  },
  {
   "cell_type": "markdown",
   "metadata": {},
   "source": [
    "# VaR methods"
   ]
  },
  {
   "cell_type": "code",
   "execution_count": 1,
   "metadata": {},
   "outputs": [],
   "source": [
    "import numpy as np, pandas as pd, scipy as sp\n",
    "from math import *\n",
    "from scipy import stats\n",
    "from scipy.stats import norm\n",
    "import statsmodels.api as sm\n",
    "from scipy import stats,random\n",
    "import pandas_datareader.data as web\n",
    "from datetime import datetime\n",
    "import matplotlib.pyplot as plt\n",
    "%matplotlib inline\n",
    "import seaborn as sns\n",
    "sns.set(style=\"darkgrid\")\n",
    "p = print"
   ]
  },
  {
   "cell_type": "markdown",
   "metadata": {},
   "source": [
    "## Simulated Data"
   ]
  },
  {
   "cell_type": "code",
   "execution_count": 2,
   "metadata": {},
   "outputs": [],
   "source": [
    "np.random.seed(12345)"
   ]
  },
  {
   "cell_type": "code",
   "execution_count": 3,
   "metadata": {},
   "outputs": [],
   "source": [
    "n_simulations = 5000000"
   ]
  },
  {
   "cell_type": "markdown",
   "metadata": {},
   "source": [
    "### Normal Distribution"
   ]
  },
  {
   "cell_type": "code",
   "execution_count": 4,
   "metadata": {},
   "outputs": [
    {
     "data": {
      "text/plain": [
       "array([-0.20470766,  0.47894334, -0.51943872, ..., -0.54125524,\n",
       "        0.627719  ,  1.85312346])"
      ]
     },
     "execution_count": 4,
     "metadata": {},
     "output_type": "execute_result"
    }
   ],
   "source": [
    "random_r = stats.norm.rvs(loc=0, scale=1.0, size=n_simulations)\n",
    "random_r"
   ]
  },
  {
   "cell_type": "code",
   "execution_count": 5,
   "metadata": {},
   "outputs": [],
   "source": [
    "def Parametric_VaR(CL, r):\n",
    "    mean = np.mean(r)\n",
    "    std_dev = np.std(r)\n",
    "    \n",
    "    VaR = norm.ppf(1-CL, mean, std_dev)\n",
    "    \n",
    "    return VaR"
   ]
  },
  {
   "cell_type": "code",
   "execution_count": 6,
   "metadata": {},
   "outputs": [],
   "source": [
    "VaR_90 = Parametric_VaR(0.90, random_r)\n",
    "VaR_95 = Parametric_VaR(0.95, random_r)\n",
    "VaR_99 = Parametric_VaR(0.99, random_r)"
   ]
  },
  {
   "cell_type": "code",
   "execution_count": 7,
   "metadata": {},
   "outputs": [
    {
     "name": "stdout",
     "output_type": "stream",
     "text": [
      "VaR_90: -1.280980754610046\n",
      "VaR_95: -1.644222635262718\n",
      "VaR_99: -2.3256039932657604\n"
     ]
    }
   ],
   "source": [
    "p('VaR_90:', VaR_90)\n",
    "p('VaR_95:', VaR_95)\n",
    "p('VaR_99:', VaR_99)"
   ]
  },
  {
   "cell_type": "code",
   "execution_count": 8,
   "metadata": {},
   "outputs": [],
   "source": [
    "def Modified_VaR(CL, r):\n",
    "    std_dev = np.std(r)\n",
    "    S = stats.skew(r)\n",
    "    K = stats.kurtosis(r)\n",
    "    \n",
    "    z = norm.ppf(1-CL)\n",
    "    t = z+1/6.*(z**2-1)*S+1/24.*(z**3-3*z)*K-1/36.*(2*z**3-5*z)*S**2\n",
    "    \n",
    "    mVaR = t * std_dev\n",
    "    \n",
    "    return mVaR"
   ]
  },
  {
   "cell_type": "code",
   "execution_count": 9,
   "metadata": {},
   "outputs": [],
   "source": [
    "mVaR_90 = Modified_VaR(0.90, random_r)\n",
    "mVaR_95 = Modified_VaR(0.95, random_r)\n",
    "mVaR_99 = Modified_VaR(0.99, random_r)"
   ]
  },
  {
   "cell_type": "code",
   "execution_count": 10,
   "metadata": {},
   "outputs": [
    {
     "name": "stdout",
     "output_type": "stream",
     "text": [
      "mVaR_90: -1.2814669339667255\n",
      "mVaR_95: -1.6447198423705713\n",
      "mVaR_99: -2.32598886620861\n"
     ]
    }
   ],
   "source": [
    "p('mVaR_90:', mVaR_90)\n",
    "p('mVaR_95:', mVaR_95)\n",
    "p('mVaR_99:', mVaR_99)"
   ]
  },
  {
   "cell_type": "code",
   "execution_count": 11,
   "metadata": {},
   "outputs": [],
   "source": [
    "def Historical_Simulation_VaR(CL, r):\n",
    "    sorted_r = np.sort(r)\n",
    "    \n",
    "    SL = (1-CL) * 100\n",
    "    \n",
    "    hsVaR = np.percentile(sorted_r, SL)\n",
    "    \n",
    "    return hsVaR"
   ]
  },
  {
   "cell_type": "code",
   "execution_count": 12,
   "metadata": {},
   "outputs": [],
   "source": [
    "HS_VaR_90 = Historical_Simulation_VaR(0.90, random_r)\n",
    "HS_VaR_95 = Historical_Simulation_VaR(0.95, random_r)\n",
    "HS_VaR_99 = Historical_Simulation_VaR(0.99, random_r)"
   ]
  },
  {
   "cell_type": "code",
   "execution_count": 13,
   "metadata": {},
   "outputs": [
    {
     "name": "stdout",
     "output_type": "stream",
     "text": [
      "HS_VaR_90: -1.2801096875771976\n",
      "HS_VaR_95: -1.6442959069281922\n",
      "HS_VaR_99: -2.3268461343672713\n"
     ]
    }
   ],
   "source": [
    "p('HS_VaR_90:', HS_VaR_90)\n",
    "p('HS_VaR_95:', HS_VaR_95)\n",
    "p('HS_VaR_99:', HS_VaR_99)"
   ]
  },
  {
   "cell_type": "code",
   "execution_count": 14,
   "metadata": {},
   "outputs": [],
   "source": [
    "def Monte_Carlo_Simulation_VaR(CL, r, n):\n",
    "    mean = np.mean(r)\n",
    "    std_dev = np.std(r)\n",
    "    \n",
    "    sp.random.seed(12345)\n",
    "    norm_r = np.random.normal(mean, std_dev, n)\n",
    "    \n",
    "    sorted_r = np.sort(norm_r)\n",
    "    \n",
    "    SL = (1-CL) * 100\n",
    "    mcsVaR = np.percentile(sorted_r, SL)\n",
    "\n",
    "    return mcsVaR"
   ]
  },
  {
   "cell_type": "code",
   "execution_count": 15,
   "metadata": {},
   "outputs": [],
   "source": [
    "MCS_VaR_90 = Monte_Carlo_Simulation_VaR(0.90, random_r, n_simulations)\n",
    "MCS_VaR_95 = Monte_Carlo_Simulation_VaR(0.95, random_r, n_simulations)\n",
    "MCS_VaR_99 = Monte_Carlo_Simulation_VaR(0.99, random_r, n_simulations)"
   ]
  },
  {
   "cell_type": "code",
   "execution_count": 16,
   "metadata": {},
   "outputs": [
    {
     "name": "stdout",
     "output_type": "stream",
     "text": [
      "MCS_VaR_90: -1.279539115488807\n",
      "MCS_VaR_95: -1.6436650076254034\n",
      "MCS_VaR_99: -2.3261021710556857\n"
     ]
    }
   ],
   "source": [
    "p('MCS_VaR_90:', MCS_VaR_90)\n",
    "p('MCS_VaR_95:', MCS_VaR_95)\n",
    "p('MCS_VaR_99:', MCS_VaR_99)"
   ]
  },
  {
   "cell_type": "code",
   "execution_count": 17,
   "metadata": {},
   "outputs": [],
   "source": [
    "start_date, end_date = '01/01/2007', '10/18/2019'"
   ]
  },
  {
   "cell_type": "code",
   "execution_count": 18,
   "metadata": {},
   "outputs": [],
   "source": [
    "source = 'yahoo'"
   ]
  },
  {
   "cell_type": "code",
   "execution_count": 19,
   "metadata": {},
   "outputs": [],
   "source": [
    "# # Get the stock prices\n",
    "# AAPL = web.DataReader('AAPL', source, start_date, end_date)\n",
    "# IBM = web.DataReader('IBM', source, start_date, end_date)\n",
    "# MSFT = web.DataReader('MSFT', source, start_date, end_date)\n",
    "# WMT = web.DataReader('WMT', source, start_date, end_date)"
   ]
  },
  {
   "cell_type": "code",
   "execution_count": 20,
   "metadata": {},
   "outputs": [],
   "source": [
    "# # Save prices to a file\n",
    "# AAPL.to_csv('AAPL.csv')\n",
    "# IBM.to_csv('IBM.csv')\n",
    "# MSFT.to_csv('MSFT.csv')\n",
    "# WMT.to_csv('WMT.csv')"
   ]
  },
  {
   "cell_type": "markdown",
   "metadata": {},
   "source": [
    "## Real-world Data"
   ]
  },
  {
   "cell_type": "markdown",
   "metadata": {},
   "source": [
    "### AAPL"
   ]
  },
  {
   "cell_type": "code",
   "execution_count": 21,
   "metadata": {},
   "outputs": [],
   "source": [
    "AAPL = pd.read_csv('AAPL.csv', index_col='Date', parse_dates=True)"
   ]
  },
  {
   "cell_type": "code",
   "execution_count": 22,
   "metadata": {},
   "outputs": [],
   "source": [
    "AAPL_returns = AAPL['Close'].pct_change().fillna(0)"
   ]
  },
  {
   "cell_type": "code",
   "execution_count": 23,
   "metadata": {},
   "outputs": [],
   "source": [
    "position = AAPL['Close'][-1]"
   ]
  },
  {
   "cell_type": "code",
   "execution_count": 24,
   "metadata": {},
   "outputs": [],
   "source": [
    "n_shares = 1000"
   ]
  },
  {
   "cell_type": "code",
   "execution_count": 25,
   "metadata": {},
   "outputs": [],
   "source": [
    "VaR_99 = Parametric_VaR(0.99, AAPL_returns)\n",
    "mVaR_99 = Modified_VaR(0.99, AAPL_returns)\n",
    "HS_VaR_99 = Historical_Simulation_VaR(0.99, AAPL_returns)\n",
    "MCS_VaR_99 = Monte_Carlo_Simulation_VaR(0.99, AAPL_returns, n_simulations)"
   ]
  },
  {
   "cell_type": "code",
   "execution_count": 26,
   "metadata": {},
   "outputs": [
    {
     "name": "stdout",
     "output_type": "stream",
     "text": [
      "Holding: 236410.00366210938\n",
      "VaR_99: -10.602120145248055\n",
      "mVaR_99: -18.32247044080731\n",
      "HS_VaR_99: -13.208256795930666\n",
      "MCS_VaR_99: -10.604447740582202\n"
     ]
    }
   ],
   "source": [
    "p('Holding:', position * n_shares)\n",
    "p('VaR_99:', position * VaR_99)\n",
    "p('mVaR_99:', position * mVaR_99)\n",
    "p('HS_VaR_99:', position * HS_VaR_99)\n",
    "p('MCS_VaR_99:', position * MCS_VaR_99)"
   ]
  },
  {
   "cell_type": "markdown",
   "metadata": {},
   "source": [
    "### IBM"
   ]
  },
  {
   "cell_type": "code",
   "execution_count": 27,
   "metadata": {},
   "outputs": [],
   "source": [
    "IBM = pd.read_csv('IBM.csv', index_col='Date', parse_dates=True)"
   ]
  },
  {
   "cell_type": "code",
   "execution_count": 28,
   "metadata": {},
   "outputs": [],
   "source": [
    "IBM_returns = IBM['Close'].pct_change().fillna(0)"
   ]
  },
  {
   "cell_type": "code",
   "execution_count": 29,
   "metadata": {},
   "outputs": [],
   "source": [
    "n_shares = 1000"
   ]
  },
  {
   "cell_type": "code",
   "execution_count": 30,
   "metadata": {},
   "outputs": [],
   "source": [
    "position = IBM['Close'][-1]"
   ]
  },
  {
   "cell_type": "code",
   "execution_count": 31,
   "metadata": {},
   "outputs": [],
   "source": [
    "VaR_99 = Parametric_VaR(0.99, IBM_returns)\n",
    "mVaR_99 = Modified_VaR(0.99, IBM_returns)\n",
    "HS_VaR_99 = Historical_Simulation_VaR(0.99, IBM_returns)\n",
    "MCS_VaR_99 = Monte_Carlo_Simulation_VaR(0.99, IBM_returns, n_simulations)"
   ]
  },
  {
   "cell_type": "code",
   "execution_count": 32,
   "metadata": {},
   "outputs": [
    {
     "name": "stdout",
     "output_type": "stream",
     "text": [
      "Holding: 134089.99633789062\n",
      "VaR_99: -4.344007548836183\n",
      "mVaR_99: -7.121694246849648\n",
      "HS_VaR_99: -5.620374673043631\n",
      "MCS_VaR_99: -4.34494363763043\n"
     ]
    }
   ],
   "source": [
    "p('Holding:', position * n_shares)\n",
    "p('VaR_99:', position * VaR_99)\n",
    "p('mVaR_99:', position * mVaR_99)\n",
    "p('HS_VaR_99:', position * HS_VaR_99)\n",
    "p('MCS_VaR_99:', position * MCS_VaR_99)"
   ]
  },
  {
   "cell_type": "markdown",
   "metadata": {},
   "source": [
    "### MSFT"
   ]
  },
  {
   "cell_type": "code",
   "execution_count": 33,
   "metadata": {},
   "outputs": [],
   "source": [
    "MSFT = pd.read_csv('MSFT.csv', index_col='Date', parse_dates=True)"
   ]
  },
  {
   "cell_type": "code",
   "execution_count": 34,
   "metadata": {},
   "outputs": [],
   "source": [
    "MSFT_returns = MSFT['Close'].pct_change().fillna(0)"
   ]
  },
  {
   "cell_type": "code",
   "execution_count": 35,
   "metadata": {},
   "outputs": [],
   "source": [
    "n_shares = 1000"
   ]
  },
  {
   "cell_type": "code",
   "execution_count": 36,
   "metadata": {},
   "outputs": [],
   "source": [
    "position = MSFT['Close'][-1]"
   ]
  },
  {
   "cell_type": "code",
   "execution_count": 37,
   "metadata": {},
   "outputs": [],
   "source": [
    "VaR_99 = Parametric_VaR(0.99, MSFT_returns)\n",
    "mVaR_99 = Modified_VaR(0.99, MSFT_returns)\n",
    "HS_VaR_99 = Historical_Simulation_VaR(0.99, MSFT_returns)\n",
    "MCS_VaR_99 = Monte_Carlo_Simulation_VaR(0.99, MSFT_returns, n_simulations)"
   ]
  },
  {
   "cell_type": "code",
   "execution_count": 38,
   "metadata": {},
   "outputs": [
    {
     "name": "stdout",
     "output_type": "stream",
     "text": [
      "Holding: 137410.00366210938\n",
      "VaR_99: -5.377986009481361\n",
      "mVaR_99: -10.116270850392512\n",
      "HS_VaR_99: -6.302199279887439\n",
      "MCS_VaR_99: -5.379156101190403\n"
     ]
    }
   ],
   "source": [
    "p('Holding:', position * n_shares)\n",
    "p('VaR_99:', position * VaR_99)\n",
    "p('mVaR_99:', position * mVaR_99)\n",
    "p('HS_VaR_99:', position * HS_VaR_99)\n",
    "p('MCS_VaR_99:', position * MCS_VaR_99)"
   ]
  },
  {
   "cell_type": "markdown",
   "metadata": {},
   "source": [
    "### WMT"
   ]
  },
  {
   "cell_type": "code",
   "execution_count": 39,
   "metadata": {},
   "outputs": [],
   "source": [
    "WMT = pd.read_csv('WMT.csv', index_col='Date', parse_dates=True)"
   ]
  },
  {
   "cell_type": "code",
   "execution_count": 40,
   "metadata": {},
   "outputs": [],
   "source": [
    "WMT_returns = WMT['Close'].pct_change().fillna(0)"
   ]
  },
  {
   "cell_type": "code",
   "execution_count": 41,
   "metadata": {},
   "outputs": [],
   "source": [
    "n_shares = 1000"
   ]
  },
  {
   "cell_type": "code",
   "execution_count": 42,
   "metadata": {},
   "outputs": [],
   "source": [
    "position = WMT['Close'][-1]"
   ]
  },
  {
   "cell_type": "code",
   "execution_count": 43,
   "metadata": {},
   "outputs": [],
   "source": [
    "VaR_99 = Parametric_VaR(0.99, WMT_returns)\n",
    "mVaR_99 = Modified_VaR(0.99, WMT_returns)\n",
    "HS_VaR_99 = Historical_Simulation_VaR(0.99, WMT_returns)\n",
    "MCS_VaR_99 = Monte_Carlo_Simulation_VaR(0.99, WMT_returns, n_simulations)"
   ]
  },
  {
   "cell_type": "code",
   "execution_count": 44,
   "metadata": {},
   "outputs": [
    {
     "name": "stdout",
     "output_type": "stream",
     "text": [
      "Holding: 119139.99938964844\n",
      "VaR_99: -3.405036524732503\n",
      "mVaR_99: -7.2136966193783065\n",
      "HS_VaR_99: -3.949656621020377\n",
      "MCS_VaR_99: -3.4057750669833786\n"
     ]
    }
   ],
   "source": [
    "p('Holding:', position * n_shares)\n",
    "p('VaR_99:', position * VaR_99)\n",
    "p('mVaR_99:', position * mVaR_99)\n",
    "p('HS_VaR_99:', position * HS_VaR_99)\n",
    "p('MCS_VaR_99:', position * MCS_VaR_99)"
   ]
  },
  {
   "cell_type": "code",
   "execution_count": null,
   "metadata": {},
   "outputs": [],
   "source": []
  },
  {
   "cell_type": "code",
   "execution_count": null,
   "metadata": {},
   "outputs": [],
   "source": []
  }
 ],
 "metadata": {
  "kernelspec": {
   "display_name": "Python 3",
   "language": "python",
   "name": "python3"
  },
  "language_info": {
   "codemirror_mode": {
    "name": "ipython",
    "version": 3
   },
   "file_extension": ".py",
   "mimetype": "text/x-python",
   "name": "python",
   "nbconvert_exporter": "python",
   "pygments_lexer": "ipython3",
   "version": "3.6.8"
  },
  "toc": {
   "base_numbering": 1,
   "nav_menu": {},
   "number_sections": true,
   "sideBar": true,
   "skip_h1_title": true,
   "title_cell": "Table of Contents",
   "title_sidebar": "Contents",
   "toc_cell": true,
   "toc_position": {},
   "toc_section_display": true,
   "toc_window_display": false
  }
 },
 "nbformat": 4,
 "nbformat_minor": 2
}
