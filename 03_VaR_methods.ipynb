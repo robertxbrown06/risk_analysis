{
 "cells": [
  {
   "cell_type": "markdown",
   "metadata": {
    "toc": true
   },
   "source": [
    "<h1>Table of Contents<span class=\"tocSkip\"></span></h1>\n",
    "<div class=\"toc\"><ul class=\"toc-item\"></ul></div>"
   ]
  },
  {
   "cell_type": "markdown",
   "metadata": {},
   "source": [
    "# VaR methods"
   ]
  },
  {
   "cell_type": "code",
   "execution_count": 1,
   "metadata": {},
   "outputs": [],
   "source": [
    "import numpy as np, pandas as pd, scipy as sp\n",
    "from math import *\n",
    "from scipy import stats\n",
    "from scipy.stats import norm\n",
    "import statsmodels.api as sm\n",
    "from scipy import stats,random\n",
    "import pandas_datareader.data as web\n",
    "from datetime import datetime\n",
    "import matplotlib.pyplot as plt\n",
    "%matplotlib inline\n",
    "import seaborn as sns\n",
    "sns.set(style=\"darkgrid\")\n",
    "p = print"
   ]
  },
  {
   "cell_type": "code",
   "execution_count": 2,
   "metadata": {},
   "outputs": [],
   "source": [
    "# tickers = ['AAPL','IBM','MSFT']\n",
    "# df = web.DataReader(tickers,'yahoo','01/01/2007','10/18/2019')\n",
    "# rets = df['Adj Close'].pct_change().dropna()"
   ]
  },
  {
   "cell_type": "code",
   "execution_count": 3,
   "metadata": {},
   "outputs": [
    {
     "name": "stdout",
     "output_type": "stream",
     "text": [
      "-2.3263478740408408\n",
      "At a confidence level of 99%, z = -2.33.\n"
     ]
    }
   ],
   "source": [
    "confidence_level_99 = 0.99\n",
    "z_99 = norm.ppf(1 - confidence_level_99)\n",
    "p(z_99)\n",
    "p(f'At a confidence level of 99%, z = {round(z_99, 2)}.')"
   ]
  },
  {
   "cell_type": "code",
   "execution_count": 4,
   "metadata": {},
   "outputs": [
    {
     "name": "stdout",
     "output_type": "stream",
     "text": [
      "Holding = 134089.996 of IBM stock, VaR = -4361.2461 tomorrow\n"
     ]
    }
   ],
   "source": [
    "ticker = 'IBM'\n",
    "n_shares=1000             # input 2\n",
    "confidence_level=0.99     # input 3\n",
    "\n",
    "z = norm.ppf(1-confidence_level) \n",
    "df = web.DataReader(ticker,'yahoo','01/01/2007','10/18/2019')\n",
    "\n",
    "rets = df['Adj Close'].pct_change().dropna()\n",
    "\n",
    "position= n_shares * df['Close'][-1] \n",
    "std = rets.std()\n",
    "\n",
    "VaR = position * z * std\n",
    "p(f'Holding = {round(position,3)} of {ticker} stock, VaR = {round(VaR,4)} tomorrow')"
   ]
  },
  {
   "cell_type": "code",
   "execution_count": 5,
   "metadata": {},
   "outputs": [],
   "source": [
    "def normality_VaR(ticker_df):\n",
    "    df = ticker_df\n",
    "    n_shares=1000             # input 2\n",
    "    confidence_level=0.99     # input 3\n",
    "\n",
    "    z = norm.ppf(1-confidence_level) \n",
    "#     df = web.DataReader(ticker,'yahoo','01/01/2007','10/18/2019')\n",
    "\n",
    "    rets = df['Adj Close'].pct_change().dropna()\n",
    "\n",
    "    position= n_shares * df['Close'][-1] \n",
    "    std = rets.std()\n",
    "\n",
    "    VaR = position * z * std\n",
    "    p(f'Holding = {round(position,3)}, VaR = {round(VaR,4)} tomorrow')\n",
    "    return"
   ]
  },
  {
   "cell_type": "code",
   "execution_count": 6,
   "metadata": {},
   "outputs": [],
   "source": [
    "aapl_df = web.DataReader('AAPL','yahoo','01/01/2007','10/18/2019')"
   ]
  },
  {
   "cell_type": "code",
   "execution_count": 7,
   "metadata": {},
   "outputs": [
    {
     "name": "stdout",
     "output_type": "stream",
     "text": [
      "Holding = 236410.004, VaR = -10865.6966 tomorrow\n"
     ]
    }
   ],
   "source": [
    "normality_VaR(aapl_df)"
   ]
  },
  {
   "cell_type": "code",
   "execution_count": 8,
   "metadata": {},
   "outputs": [],
   "source": [
    "msft_df = web.DataReader('MSFT','yahoo','01/01/2007','10/18/2019')"
   ]
  },
  {
   "cell_type": "code",
   "execution_count": 9,
   "metadata": {},
   "outputs": [
    {
     "name": "stdout",
     "output_type": "stream",
     "text": [
      "Holding = 137410.004, VaR = -5459.8297 tomorrow\n"
     ]
    }
   ],
   "source": [
    "normality_VaR(msft_df)"
   ]
  },
  {
   "cell_type": "code",
   "execution_count": 10,
   "metadata": {},
   "outputs": [
    {
     "name": "stdout",
     "output_type": "stream",
     "text": [
      "Holding = 134089.996, VaR = -13791.4711 over 10 days\n"
     ]
    }
   ],
   "source": [
    "ticker = 'IBM'\n",
    "n_shares = 1000             # input 2\n",
    "confidence_level = 0.99     # input 3\n",
    "nDays = 10\n",
    "\n",
    "z = norm.ppf(1-confidence_level) \n",
    "ibm_df = web.DataReader(ticker,'yahoo','01/01/2007','10/18/2019')\n",
    "\n",
    "rets = ibm_df['Adj Close'].pct_change().dropna()\n",
    "\n",
    "position= n_shares * ibm_df['Close'][-1] \n",
    "std = rets.std() * np.sqrt(nDays)\n",
    "\n",
    "VaR = position * z * std\n",
    "p(f'Holding = {round(position,3)}, VaR = {round(VaR,4)} over {nDays} days')"
   ]
  },
  {
   "cell_type": "code",
   "execution_count": 11,
   "metadata": {},
   "outputs": [],
   "source": [
    "def normality_nDays_VaR(ticker_df, nDays):\n",
    "    df = ticker_df\n",
    "#     ticker = 'AAPL'\n",
    "    n_shares = 1000             # input 2\n",
    "    confidence_level = 0.99     # input 3\n",
    "    nDays = nDays\n",
    "\n",
    "    z = norm.ppf(1-confidence_level) \n",
    "#     df = web.DataReader(ticker,'yahoo','01/01/2007','10/18/2019')\n",
    "\n",
    "    rets = df['Adj Close'].pct_change().dropna()\n",
    "\n",
    "    position= n_shares * df['Close'][-1] \n",
    "    std = rets.std() * np.sqrt(nDays)\n",
    "\n",
    "    VaR = position * z * std\n",
    "    p(f'Holding = {round(position,3)}, VaR = {round(VaR,4)} over {nDays} day')\n",
    "    return"
   ]
  },
  {
   "cell_type": "code",
   "execution_count": 12,
   "metadata": {},
   "outputs": [
    {
     "name": "stdout",
     "output_type": "stream",
     "text": [
      "Holding = 134089.996, VaR = -13791.4711 over 10 day\n"
     ]
    }
   ],
   "source": [
    "normality_nDays_VaR(ibm_df,10)"
   ]
  },
  {
   "cell_type": "code",
   "execution_count": 13,
   "metadata": {},
   "outputs": [],
   "source": [
    "aapl_df = web.DataReader('AAPL','yahoo','01/01/2007','10/18/2019')"
   ]
  },
  {
   "cell_type": "code",
   "execution_count": 14,
   "metadata": {},
   "outputs": [
    {
     "name": "stdout",
     "output_type": "stream",
     "text": [
      "Holding = 236410.004, VaR = -34360.3496 over 10 day\n"
     ]
    }
   ],
   "source": [
    "normality_nDays_VaR(aapl_df,10)"
   ]
  },
  {
   "cell_type": "code",
   "execution_count": 15,
   "metadata": {},
   "outputs": [],
   "source": [
    "msft_df = web.DataReader('MSFT','yahoo','01/01/2007','10/18/2019')"
   ]
  },
  {
   "cell_type": "code",
   "execution_count": 16,
   "metadata": {},
   "outputs": [
    {
     "name": "stdout",
     "output_type": "stream",
     "text": [
      "Holding = 137410.004, VaR = -17265.4976 over 10 day\n"
     ]
    }
   ],
   "source": [
    "normality_nDays_VaR(msft_df,10)"
   ]
  },
  {
   "cell_type": "code",
   "execution_count": 17,
   "metadata": {},
   "outputs": [
    {
     "name": "stdout",
     "output_type": "stream",
     "text": [
      "mean = -0.0002837106573708666\n",
      "standard deviation = 1.0008485763507922\n",
      "skewness = 0.0019744405393315747\n",
      "kurtosis = 0.0015123186295351587\n"
     ]
    }
   ],
   "source": [
    "np.random.seed(1234)\n",
    "n=5000000   \n",
    "\n",
    "ret = random.normal(0,1,n)\n",
    "p(f'mean = {np.mean(ret)}')\n",
    "p(f'standard deviation = {np.std(ret)}')\n",
    "p(f'skewness = {stats.skew(ret)}')\n",
    "p(f'kurtosis = {stats.kurtosis(ret)}')"
   ]
  },
  {
   "cell_type": "code",
   "execution_count": 18,
   "metadata": {},
   "outputs": [
    {
     "name": "stdout",
     "output_type": "stream",
     "text": [
      "Holding = 236410.0 VaR = -10588.68 over 1 day\n",
      "Holding = 236410.0, modified VaR = -16654.77 over 1 day\n"
     ]
    }
   ],
   "source": [
    "ticker = 'AAPL'            # input 1\n",
    "n_shares = 1000            # input 2\n",
    "confidence_level = 0.99   # input 3\n",
    "\n",
    "\n",
    "# Method I: based on the first two moments\n",
    "z = abs(norm.ppf(1-confidence_level)) \n",
    "df = web.DataReader(ticker,'yahoo','01/01/2007','10/18/2019')\n",
    "rets = df['Adj Close'].pct_change().dropna()\n",
    "position= n_shares * df['Close'][-1] \n",
    "mean = np.mean(rets)\n",
    "std = np.std(rets)\n",
    "VaR1 = position * (mean - z * std)\n",
    "p(f'Holding = {round(position,2)} VaR = {round(VaR1,2)} over 1 day')\n",
    "\n",
    "# Modified VaR: based on 4 moments\n",
    "s = stats.skew(rets)\n",
    "k = stats.kurtosis(rets)\n",
    "t = z+1/6.*(z**2-1)*s+1/24.*(z**3-3*z)*k-1/36.*(2*z**3-5*z)*s**2\n",
    "mVaR = position * (mean - t * std)\n",
    "p(f'Holding = {round(position,2)}, modified VaR = {round(mVaR,2)} over 1 day')\n",
    "# ('Holding=', 24853.46, 'VaR1=', -876.84, 'for 1 day ')\n",
    "# ('Holding=', 24853.46, 'modified VaR=', -1500.41, 'for 1 day ')"
   ]
  },
  {
   "cell_type": "code",
   "execution_count": 19,
   "metadata": {},
   "outputs": [
    {
     "name": "stdout",
     "output_type": "stream",
     "text": [
      "Holding = 236410.004, VaR = -10865.6966 over 1 day\n"
     ]
    }
   ],
   "source": [
    "aapl_df = web.DataReader('AAPL','yahoo','01/01/2007','10/18/2019')\n",
    "normality_nDays_VaR(aapl_df,1)"
   ]
  },
  {
   "cell_type": "code",
   "execution_count": 20,
   "metadata": {},
   "outputs": [],
   "source": [
    "def modified_VaR(ticker_df):\n",
    "    df = ticker_df        # input 1\n",
    "    n_shares = 1000            # input 2\n",
    "    confidence_level = 0.99   # input 3\n",
    "\n",
    "    # Method I: based on the first two moments\n",
    "    z = abs(norm.ppf(1-confidence_level)) \n",
    "#     df = web.DataReader(ticker,'yahoo','01/01/2007','10/18/2019')\n",
    "    rets = df['Adj Close'].pct_change().dropna()\n",
    "    position= n_shares * df['Close'][-1] \n",
    "    mean = np.mean(rets)\n",
    "    std = np.std(rets)\n",
    "    VaR1 = position * (mean - z * std)\n",
    "    p(f'Holding = {round(position,2)}, VaR = {round(VaR1,2)} over 1 day')\n",
    "\n",
    "    # Modified VaR: based on 4 moments\n",
    "    s = stats.skew(rets)\n",
    "    k = stats.kurtosis(rets)\n",
    "    t = z+1/6.*(z**2-1)*s+1/24.*(z**3-3*z)*k-1/36.*(2*z**3-5*z)*s**2\n",
    "    mVaR = position * (mean - t * std)\n",
    "    \n",
    "    p(f'Holding = {round(position,2)}, modified VaR = {round(mVaR,2)} over 1 day')\n",
    "    return"
   ]
  },
  {
   "cell_type": "code",
   "execution_count": 21,
   "metadata": {},
   "outputs": [],
   "source": [
    "ibm_df = web.DataReader('IBM','yahoo','01/01/2007','10/18/2019')"
   ]
  },
  {
   "cell_type": "code",
   "execution_count": 22,
   "metadata": {},
   "outputs": [
    {
     "name": "stdout",
     "output_type": "stream",
     "text": [
      "Holding = 134090.0, VaR = -4319.48 over 1 day\n",
      "Holding = 134090.0, modified VaR = -6969.34 over 1 day\n"
     ]
    }
   ],
   "source": [
    "modified_VaR(ibm_df)"
   ]
  },
  {
   "cell_type": "code",
   "execution_count": 23,
   "metadata": {},
   "outputs": [],
   "source": [
    "msft_df = web.DataReader('MSFT','yahoo','01/01/2007','10/18/2019')"
   ]
  },
  {
   "cell_type": "code",
   "execution_count": 24,
   "metadata": {},
   "outputs": [
    {
     "name": "stdout",
     "output_type": "stream",
     "text": [
      "Holding = 137410.0, VaR = -5361.47 over 1 day\n",
      "Holding = 137410.0, modified VaR = -11557.92 over 1 day\n"
     ]
    }
   ],
   "source": [
    "modified_VaR(msft_df)"
   ]
  },
  {
   "cell_type": "code",
   "execution_count": 25,
   "metadata": {},
   "outputs": [
    {
     "name": "stdout",
     "output_type": "stream",
     "text": [
      "Holding = 236410.0, historical VaR = -13224.7265 tomorrow\n"
     ]
    }
   ],
   "source": [
    "# VaR based on sorted historical returns\n",
    "\n",
    "ticker='AAPL'\n",
    "# To make our programs easier to understand, the time period is just 1 day:\n",
    "z = norm.ppf(confidence_level) \n",
    "df = web.DataReader(ticker,'yahoo','01/01/2007','10/18/2019')\n",
    "ret = df['Adj Close'].pct_change().dropna()\n",
    "\n",
    "position = n_shares * df['Close'][-1] \n",
    "std=np.std(ret)\n",
    "\n",
    "n = len(ret)\n",
    "left_tail = int((1 - confidence_level) * n)\n",
    "sorted_ret = np.sort(ret)\n",
    "\n",
    "\n",
    "VaR = position * sorted_ret[left_tail]\n",
    "p(f'Holding = {round(position,2)}, historical VaR = {round(VaR,4)} tomorrow')"
   ]
  },
  {
   "cell_type": "code",
   "execution_count": 26,
   "metadata": {},
   "outputs": [],
   "source": [
    "def historical_VaR(ticker_df):\n",
    "    df = ticker_df\n",
    "#     ticker = 'AAPL'\n",
    "    n_shares = 1000             # input 2\n",
    "    confidence_level = 0.99     # input 3\n",
    "#     nDays = nDays\n",
    "\n",
    "#     z = norm.ppf(1-confidence_level) \n",
    "#     df = web.DataReader(ticker,'yahoo','01/01/2007','10/18/2019')\n",
    "\n",
    "    rets = df['Adj Close'].pct_change().dropna()\n",
    "    position= n_shares * df['Close'][-1] \n",
    "    std = rets.std() #* np.sqrt(nDays)\n",
    "\n",
    "    n = len(ret)\n",
    "    left_tail = int((1 - confidence_level) * n)\n",
    "    sorted_ret = np.sort(ret)\n",
    "\n",
    "    VaR = position * sorted_ret[left_tail]\n",
    "    p(f'Holding = {round(position,2)}, historical VaR = {round(VaR,4)} tomorrow')\n",
    "    return"
   ]
  },
  {
   "cell_type": "code",
   "execution_count": 27,
   "metadata": {},
   "outputs": [
    {
     "name": "stdout",
     "output_type": "stream",
     "text": [
      "Holding = 236410.0, historical VaR = -13224.7265 tomorrow\n"
     ]
    }
   ],
   "source": [
    "historical_VaR(aapl_df)"
   ]
  },
  {
   "cell_type": "code",
   "execution_count": 28,
   "metadata": {},
   "outputs": [
    {
     "name": "stdout",
     "output_type": "stream",
     "text": [
      "Holding = 236410.004, VaR = -34360.3496 over 10 day\n"
     ]
    }
   ],
   "source": [
    "normality_nDays_VaR(aapl_df,10)"
   ]
  },
  {
   "cell_type": "code",
   "execution_count": 29,
   "metadata": {},
   "outputs": [
    {
     "name": "stdout",
     "output_type": "stream",
     "text": [
      "Holding = 236410.0, VaR = -10588.68 over 1 day\n",
      "Holding = 236410.0, modified VaR = -16654.77 over 1 day\n"
     ]
    }
   ],
   "source": [
    "modified_VaR(aapl_df)"
   ]
  },
  {
   "cell_type": "code",
   "execution_count": 30,
   "metadata": {},
   "outputs": [
    {
     "name": "stdout",
     "output_type": "stream",
     "text": [
      "Holding = 134090.0, historical VaR = -7500.9665 tomorrow\n"
     ]
    }
   ],
   "source": [
    "historical_VaR(ibm_df)"
   ]
  },
  {
   "cell_type": "code",
   "execution_count": 31,
   "metadata": {},
   "outputs": [
    {
     "name": "stdout",
     "output_type": "stream",
     "text": [
      "Holding = 236410.0, VaR = -10588.68 over 1 day\n",
      "Holding = 236410.0, modified VaR = -16654.77 over 1 day\n"
     ]
    }
   ],
   "source": [
    "modified_VaR(aapl_df)"
   ]
  },
  {
   "cell_type": "code",
   "execution_count": 32,
   "metadata": {},
   "outputs": [
    {
     "name": "stdout",
     "output_type": "stream",
     "text": [
      "Holding = 137410.0, historical VaR = -7686.687 tomorrow\n"
     ]
    }
   ],
   "source": [
    "historical_VaR(msft_df)"
   ]
  },
  {
   "cell_type": "code",
   "execution_count": 33,
   "metadata": {},
   "outputs": [
    {
     "name": "stdout",
     "output_type": "stream",
     "text": [
      "Holding = 236410.00366210938 Monte Carlo VaR = -6573.0393 tomorrow\n"
     ]
    }
   ],
   "source": [
    "# Monte Carlo simulation VaR\n",
    "# Monte Carlo simulation VaR\n",
    "df = web.DataReader('WMT','yahoo','01/01/2007','10/18/2019')\n",
    "ret = df['Adj Close'].pct_change()\n",
    "mean=np.mean(ret)\n",
    "std=np.std(ret)\n",
    "\n",
    "sp.random.seed(12345) \n",
    "n_simulation=5000\n",
    "n_shares = 1000             # input 2\n",
    "confidence_level = 0.99 \n",
    "\n",
    "ret2 = sp.random.normal(mean,std,n_simulation) \n",
    "ret3 = np.sort(ret2) \n",
    "m = int(n_simulation * (1-confidence_level))\n",
    "VaR = position * (ret3[m])\n",
    "p(f'Holding = {position} Monte Carlo VaR = {round(VaR,4)} tomorrow')"
   ]
  },
  {
   "cell_type": "code",
   "execution_count": 34,
   "metadata": {},
   "outputs": [],
   "source": [
    "def monte_carlo_VaR(ticker_df):\n",
    "    # Monte Carlo simulation VaR\n",
    "    sp.random.seed(12345) \n",
    "    n_simulation = 5000\n",
    "    n_shares = 1000             # input 2\n",
    "    confidence_level = 0.99 \n",
    "    \n",
    "    df = ticker_df\n",
    "#     df = web.DataReader('WMT','yahoo','01/01/2007','10/18/2019')\n",
    "    ret = df['Adj Close'].pct_change()\n",
    "    mean=np.mean(ret)\n",
    "    std=np.std(ret)\n",
    "    position = n_shares * df['Close'][-1] \n",
    "\n",
    "    \n",
    "    ret2 = sp.random.normal(mean,std,n_simulation) \n",
    "    ret3 = np.sort(ret2) \n",
    "    m = int(n_simulation * (1-confidence_level))\n",
    "    VaR = position * (ret3[m])\n",
    "    p(f'Holding = {round(position,2)} Monte Carlo VaR = {round(VaR,4)} tomorrow')\n",
    "    return"
   ]
  },
  {
   "cell_type": "code",
   "execution_count": 35,
   "metadata": {},
   "outputs": [
    {
     "name": "stdout",
     "output_type": "stream",
     "text": [
      "Holding = 236410.0 Monte Carlo VaR = -10354.9889 tomorrow\n"
     ]
    }
   ],
   "source": [
    "monte_carlo_VaR(aapl_df)"
   ]
  },
  {
   "cell_type": "code",
   "execution_count": 36,
   "metadata": {},
   "outputs": [
    {
     "name": "stdout",
     "output_type": "stream",
     "text": [
      "Holding = 134090.0 Monte Carlo VaR = -4225.6823 tomorrow\n"
     ]
    }
   ],
   "source": [
    "monte_carlo_VaR(ibm_df)"
   ]
  },
  {
   "cell_type": "code",
   "execution_count": 37,
   "metadata": {},
   "outputs": [
    {
     "name": "stdout",
     "output_type": "stream",
     "text": [
      "Holding = 137410.0 Monte Carlo VaR = -5244.0437 tomorrow\n"
     ]
    }
   ],
   "source": [
    "monte_carlo_VaR(msft_df)"
   ]
  },
  {
   "cell_type": "markdown",
   "metadata": {},
   "source": [
    "In summary:"
   ]
  },
  {
   "cell_type": "code",
   "execution_count": 38,
   "metadata": {},
   "outputs": [
    {
     "name": "stdout",
     "output_type": "stream",
     "text": [
      "Holding = 236410.004, VaR = -10865.6966 tomorrow\n"
     ]
    }
   ],
   "source": [
    "normality_VaR(aapl_df)"
   ]
  },
  {
   "cell_type": "code",
   "execution_count": 39,
   "metadata": {},
   "outputs": [
    {
     "name": "stdout",
     "output_type": "stream",
     "text": [
      "Holding = 236410.0, VaR = -10588.68 over 1 day\n",
      "Holding = 236410.0, modified VaR = -16654.77 over 1 day\n"
     ]
    }
   ],
   "source": [
    "modified_VaR(aapl_df)"
   ]
  },
  {
   "cell_type": "code",
   "execution_count": 40,
   "metadata": {},
   "outputs": [
    {
     "name": "stdout",
     "output_type": "stream",
     "text": [
      "Holding = 236410.0, historical VaR = -7755.5248 tomorrow\n"
     ]
    }
   ],
   "source": [
    "historical_VaR(aapl_df)"
   ]
  },
  {
   "cell_type": "code",
   "execution_count": 41,
   "metadata": {},
   "outputs": [
    {
     "name": "stdout",
     "output_type": "stream",
     "text": [
      "Holding = 236410.0 Monte Carlo VaR = -10354.9889 tomorrow\n"
     ]
    }
   ],
   "source": [
    "monte_carlo_VaR(aapl_df)"
   ]
  },
  {
   "cell_type": "code",
   "execution_count": 42,
   "metadata": {},
   "outputs": [
    {
     "name": "stdout",
     "output_type": "stream",
     "text": [
      "Holding = 134089.996, VaR = -4361.2461 tomorrow\n"
     ]
    }
   ],
   "source": [
    "normality_VaR(ibm_df)"
   ]
  },
  {
   "cell_type": "code",
   "execution_count": 43,
   "metadata": {},
   "outputs": [
    {
     "name": "stdout",
     "output_type": "stream",
     "text": [
      "Holding = 134090.0, VaR = -4319.48 over 1 day\n",
      "Holding = 134090.0, modified VaR = -6969.34 over 1 day\n"
     ]
    }
   ],
   "source": [
    "modified_VaR(ibm_df)"
   ]
  },
  {
   "cell_type": "code",
   "execution_count": 44,
   "metadata": {},
   "outputs": [
    {
     "name": "stdout",
     "output_type": "stream",
     "text": [
      "Holding = 134090.0, historical VaR = -4398.876 tomorrow\n"
     ]
    }
   ],
   "source": [
    "historical_VaR(ibm_df)"
   ]
  },
  {
   "cell_type": "code",
   "execution_count": 45,
   "metadata": {},
   "outputs": [
    {
     "name": "stdout",
     "output_type": "stream",
     "text": [
      "Holding = 134090.0 Monte Carlo VaR = -4225.6823 tomorrow\n"
     ]
    }
   ],
   "source": [
    "monte_carlo_VaR(ibm_df)"
   ]
  },
  {
   "cell_type": "code",
   "execution_count": 46,
   "metadata": {},
   "outputs": [
    {
     "name": "stdout",
     "output_type": "stream",
     "text": [
      "Holding = 137410.004, VaR = -5459.8297 tomorrow\n"
     ]
    }
   ],
   "source": [
    "normality_VaR(msft_df)"
   ]
  },
  {
   "cell_type": "code",
   "execution_count": 47,
   "metadata": {},
   "outputs": [
    {
     "name": "stdout",
     "output_type": "stream",
     "text": [
      "Holding = 137410.0, VaR = -5361.47 over 1 day\n",
      "Holding = 137410.0, modified VaR = -11557.92 over 1 day\n"
     ]
    }
   ],
   "source": [
    "modified_VaR(msft_df)"
   ]
  },
  {
   "cell_type": "code",
   "execution_count": 48,
   "metadata": {},
   "outputs": [
    {
     "name": "stdout",
     "output_type": "stream",
     "text": [
      "Holding = 137410.0, historical VaR = -4507.7902 tomorrow\n"
     ]
    }
   ],
   "source": [
    "historical_VaR(msft_df)"
   ]
  },
  {
   "cell_type": "code",
   "execution_count": 49,
   "metadata": {},
   "outputs": [
    {
     "name": "stdout",
     "output_type": "stream",
     "text": [
      "Holding = 137410.0 Monte Carlo VaR = -5244.0437 tomorrow\n"
     ]
    }
   ],
   "source": [
    "monte_carlo_VaR(msft_df)"
   ]
  },
  {
   "cell_type": "code",
   "execution_count": null,
   "metadata": {},
   "outputs": [],
   "source": []
  }
 ],
 "metadata": {
  "kernelspec": {
   "display_name": "Python 3",
   "language": "python",
   "name": "python3"
  },
  "toc": {
   "base_numbering": 1,
   "nav_menu": {},
   "number_sections": true,
   "sideBar": true,
   "skip_h1_title": true,
   "title_cell": "Table of Contents",
   "title_sidebar": "Contents",
   "toc_cell": true,
   "toc_position": {},
   "toc_section_display": true,
   "toc_window_display": false
  }
 },
 "nbformat": 4,
 "nbformat_minor": 2
}
